{
  "nbformat": 4,
  "nbformat_minor": 0,
  "metadata": {
    "colab": {
      "name": "Sesión 1a - Python_Tipos de Datos y Operadores.ipynb",
      "provenance": [],
      "collapsed_sections": [],
      "toc_visible": true
    },
    "kernelspec": {
      "display_name": "Python 3",
      "language": "python",
      "name": "python3"
    }
  },
  "cells": [
    {
      "cell_type": "markdown",
      "metadata": {
        "id": "raZLdrxQDchV"
      },
      "source": [
        "# **Python**\n",
        "\n",
        "Python es un lenguaje de programación interpretado cuyo diseño está enfocado en tener un código bastante legible y multiplataforma.  Es un lenguaje interpretado de tipado dinámico.\n",
        "\n",
        "Soporta orientación a objetos, programación imperativa y programación funcional.\n",
        "\n",
        "**Nota:** Se recomienda revisar otros materiales para profundizar en el lenguaje Python, por ejemplo: [CodeCademy: Learn Python (10 hours)](https://www.codecademy.com/courses/learn-python/lessons/python-syntax/exercises/welcome?action=lesson_resume).\n",
        "\n",
        "Empezaremos revisando los diferentes tipos de datos en Python."
      ]
    },
    {
      "cell_type": "markdown",
      "source": [
        "# New Section"
      ],
      "metadata": {
        "id": "bEHH4oyI4xDh"
      }
    },
    {
      "cell_type": "code",
      "metadata": {
        "id": "GBOoi2yaensV"
      },
      "source": [
        "from google.colab import drive\n",
        "drive.mount('/content/drive')"
      ],
      "execution_count": null,
      "outputs": []
    },
    {
      "cell_type": "markdown",
      "metadata": {
        "id": "9LCYmbRqnAEL"
      },
      "source": [
        "\n",
        "# **1. Tipos de Datos**"
      ]
    },
    {
      "cell_type": "markdown",
      "metadata": {
        "id": "8uFevkOgDchc"
      },
      "source": [
        "## Números\n",
        "\n",
        "Es el tipo de datos que más iremos a usar y puede ser de cualquiera de éstos subtipos:\n",
        "\n",
        "* int:\tentero\n",
        "* long:\tentero long\n",
        "* float:\tpunto flotante\n",
        "* complex:\tcomplejo\n",
        "* bool: booleano"
      ]
    },
    {
      "cell_type": "code",
      "source": [
        "22"
      ],
      "metadata": {
        "id": "pZTiRPxbudlD"
      },
      "execution_count": null,
      "outputs": []
    },
    {
      "cell_type": "code",
      "source": [
        "6.141516"
      ],
      "metadata": {
        "id": "rz1CLwkFugu6"
      },
      "execution_count": null,
      "outputs": []
    },
    {
      "cell_type": "code",
      "source": [
        "5 + 2j"
      ],
      "metadata": {
        "id": "x4nl2VTquk3Q"
      },
      "execution_count": null,
      "outputs": []
    },
    {
      "cell_type": "markdown",
      "metadata": {
        "id": "Z8EFwYVeDchu"
      },
      "source": [
        "#### Asignación de valores numéricos a una variable"
      ]
    },
    {
      "cell_type": "code",
      "metadata": {
        "id": "-46gPuAbDchv"
      },
      "source": [
        "# Nombres de variables: no deben empezar con números ni símbolos especiales e.g. $\n",
        "variable = 2\n",
        "mi_var = 6"
      ],
      "execution_count": null,
      "outputs": []
    },
    {
      "cell_type": "code",
      "metadata": {
        "id": "E6a667eEDchx"
      },
      "source": [
        "x = 2\n",
        "y = 3"
      ],
      "execution_count": null,
      "outputs": []
    },
    {
      "cell_type": "code",
      "metadata": {
        "id": "F3qp29a8Dch0"
      },
      "source": [
        "z = x + y"
      ],
      "execution_count": null,
      "outputs": []
    },
    {
      "cell_type": "code",
      "metadata": {
        "id": "M4uUJIRcDch4"
      },
      "source": [
        "z"
      ],
      "execution_count": null,
      "outputs": []
    },
    {
      "cell_type": "markdown",
      "metadata": {
        "id": "QbNc0x3vDckM"
      },
      "source": [
        "## Booleanos\n",
        "\n",
        "El tipo booleano sólo puede tener dos valores: True (verdadero) y False (falso). Estos valores son especialmente importantes para las expresiones condicionales."
      ]
    },
    {
      "cell_type": "code",
      "metadata": {
        "id": "ncJHG6KgDckM"
      },
      "source": [
        "True"
      ],
      "execution_count": null,
      "outputs": []
    },
    {
      "cell_type": "code",
      "metadata": {
        "id": "UvK7Jrs5DckO"
      },
      "source": [
        "False"
      ],
      "execution_count": null,
      "outputs": []
    },
    {
      "cell_type": "markdown",
      "metadata": {
        "id": "VWxn86znDch6"
      },
      "source": [
        "## Cadenas (Strings)\n",
        "\n",
        "Son un tipo de dato para almacenar secuencias de caracteres, estos son utiles cuando debamos trabajar con texto."
      ]
    },
    {
      "cell_type": "code",
      "metadata": {
        "id": "ba40VjPWDch8"
      },
      "source": [
        "'comilla simple'"
      ],
      "execution_count": null,
      "outputs": []
    },
    {
      "cell_type": "code",
      "metadata": {
        "id": "rj9RBr35Dch-"
      },
      "source": [
        "\"comillas dobles\""
      ],
      "execution_count": null,
      "outputs": []
    },
    {
      "cell_type": "code",
      "metadata": {
        "id": "sZff3MzkDciB"
      },
      "source": [
        "'uso del caracter de escape para escribir el caracter de comilla simple\\' dentro de una cadena con comilla simple'"
      ],
      "execution_count": null,
      "outputs": []
    },
    {
      "cell_type": "markdown",
      "metadata": {
        "id": "9L_F26XpDcic"
      },
      "source": [
        "### Índices de cadenas\n",
        "\n",
        "Para acceder a las posiciones de cada uno de los caracteres de una cadena de hace por medio de su índice.\n"
      ]
    },
    {
      "cell_type": "code",
      "metadata": {
        "id": "SPZyXtDxDcic"
      },
      "source": [
        "s = \"Introducción al Análisis y Visualización de Datos con Python\""
      ],
      "execution_count": null,
      "outputs": []
    },
    {
      "cell_type": "code",
      "metadata": {
        "id": "mEis3UffDcih",
        "colab": {
          "base_uri": "https://localhost:8080/",
          "height": 36
        },
        "outputId": "42f5224d-ae5f-4218-a8a6-5a46d510bdef"
      },
      "source": [
        "s[0]"
      ],
      "execution_count": null,
      "outputs": [
        {
          "output_type": "execute_result",
          "data": {
            "text/plain": [
              "'I'"
            ],
            "application/vnd.google.colaboratory.intrinsic+json": {
              "type": "string"
            }
          },
          "metadata": {},
          "execution_count": 3
        }
      ]
    },
    {
      "cell_type": "code",
      "metadata": {
        "id": "Iun3pxXXDcik",
        "colab": {
          "base_uri": "https://localhost:8080/",
          "height": 36
        },
        "outputId": "c6a82467-b099-4be7-aaf8-fd2fe97944f2"
      },
      "source": [
        "s[3]"
      ],
      "execution_count": null,
      "outputs": [
        {
          "output_type": "execute_result",
          "data": {
            "text/plain": [
              "'r'"
            ],
            "application/vnd.google.colaboratory.intrinsic+json": {
              "type": "string"
            }
          },
          "metadata": {},
          "execution_count": 4
        }
      ]
    },
    {
      "cell_type": "code",
      "metadata": {
        "id": "DpBKbq199zCc",
        "colab": {
          "base_uri": "https://localhost:8080/",
          "height": 36
        },
        "outputId": "eef5f1ce-8fb5-4a91-9258-434f9adbb77e"
      },
      "source": [
        "s[-1]"
      ],
      "execution_count": null,
      "outputs": [
        {
          "output_type": "execute_result",
          "data": {
            "text/plain": [
              "'n'"
            ],
            "application/vnd.google.colaboratory.intrinsic+json": {
              "type": "string"
            }
          },
          "metadata": {},
          "execution_count": 5
        }
      ]
    },
    {
      "cell_type": "markdown",
      "metadata": {
        "id": "gf7voUFyDcim"
      },
      "source": [
        "### Troceado de cadenas (Slicing)\n",
        "\n",
        "Para tomar un subconjunto de elementos de la cadena inicial lo hacemos por la posición en el ìndice en forma de  rango:\n",
        "\n",
        "**cadena[inicio:fin:paso]**\n",
        "* inicio (incluído)\n",
        "* fin (excluído)\n",
        "\n",
        "**Valores por defecto:** \n",
        "* inicio = 0\n",
        "* fin = longitud cadena\n",
        "* paso = 1 (puede ser negativo para empezar desde el final de la cadena hacia la izquierda)"
      ]
    },
    {
      "cell_type": "code",
      "metadata": {
        "id": "8oeMFF4GDcin",
        "colab": {
          "base_uri": "https://localhost:8080/",
          "height": 36
        },
        "outputId": "f416a06b-59a8-4ec9-b598-456c9770517b"
      },
      "source": [
        "s[0:10]"
      ],
      "execution_count": null,
      "outputs": [
        {
          "output_type": "execute_result",
          "data": {
            "text/plain": [
              "'Introducci'"
            ],
            "application/vnd.google.colaboratory.intrinsic+json": {
              "type": "string"
            }
          },
          "metadata": {},
          "execution_count": 6
        }
      ]
    },
    {
      "cell_type": "code",
      "metadata": {
        "id": "gJgq9Y8uDcir",
        "colab": {
          "base_uri": "https://localhost:8080/",
          "height": 36
        },
        "outputId": "81b61814-4bfa-4c81-ba51-7232a21c575d"
      },
      "source": [
        "s[:10]"
      ],
      "execution_count": null,
      "outputs": [
        {
          "output_type": "execute_result",
          "data": {
            "text/plain": [
              "'Introducci'"
            ],
            "application/vnd.google.colaboratory.intrinsic+json": {
              "type": "string"
            }
          },
          "metadata": {},
          "execution_count": 7
        }
      ]
    },
    {
      "cell_type": "code",
      "metadata": {
        "id": "2QYDlWjJDciw",
        "colab": {
          "base_uri": "https://localhost:8080/",
          "height": 36
        },
        "outputId": "caa57e8c-2518-4cde-909f-688742ca28e5"
      },
      "source": [
        "s[:]"
      ],
      "execution_count": null,
      "outputs": [
        {
          "output_type": "execute_result",
          "data": {
            "text/plain": [
              "'Introducción al Análisis y Visualización de Datos con Python'"
            ],
            "application/vnd.google.colaboratory.intrinsic+json": {
              "type": "string"
            }
          },
          "metadata": {},
          "execution_count": 8
        }
      ]
    },
    {
      "cell_type": "code",
      "metadata": {
        "id": "mYVMMg8BDci1",
        "colab": {
          "base_uri": "https://localhost:8080/",
          "height": 36
        },
        "outputId": "62de56dc-3372-4610-f784-c3563fbed269"
      },
      "source": [
        "s[0::2]"
      ],
      "execution_count": null,
      "outputs": [
        {
          "output_type": "execute_result",
          "data": {
            "text/plain": [
              "'Itoucó lAáii  iulzcó eDtscnPto'"
            ],
            "application/vnd.google.colaboratory.intrinsic+json": {
              "type": "string"
            }
          },
          "metadata": {},
          "execution_count": 9
        }
      ]
    },
    {
      "cell_type": "code",
      "metadata": {
        "id": "ywta5mhkDci2",
        "colab": {
          "base_uri": "https://localhost:8080/",
          "height": 36
        },
        "outputId": "e95fdd0f-1fa9-425c-9587-402516ab4eb2"
      },
      "source": [
        "s[::-1]"
      ],
      "execution_count": null,
      "outputs": [
        {
          "output_type": "execute_result",
          "data": {
            "text/plain": [
              "'nohtyP noc sotaD ed nóicazilausiV y sisilánA la nóiccudortnI'"
            ],
            "application/vnd.google.colaboratory.intrinsic+json": {
              "type": "string"
            }
          },
          "metadata": {},
          "execution_count": 10
        }
      ]
    },
    {
      "cell_type": "code",
      "metadata": {
        "id": "NqGipjC6Dci4"
      },
      "source": [
        "cad = \"Amor a Roma\""
      ],
      "execution_count": null,
      "outputs": []
    },
    {
      "cell_type": "code",
      "metadata": {
        "id": "9k-_kS-0Dci5",
        "colab": {
          "base_uri": "https://localhost:8080/",
          "height": 36
        },
        "outputId": "ca9ddb21-0faa-4b8e-8cf1-3da5dcb0d4c5"
      },
      "source": [
        "cad[::-1]"
      ],
      "execution_count": null,
      "outputs": [
        {
          "output_type": "execute_result",
          "data": {
            "text/plain": [
              "'amoR a romA'"
            ],
            "application/vnd.google.colaboratory.intrinsic+json": {
              "type": "string"
            }
          },
          "metadata": {},
          "execution_count": 12
        }
      ]
    },
    {
      "cell_type": "code",
      "metadata": {
        "id": "cAmXs1v0Dci7"
      },
      "source": [
        "oculto = \"!XeXgXaXsXsXeXmX XtXeXrXcXeXsX XeXhXtX XmXaX XI\""
      ],
      "execution_count": null,
      "outputs": []
    },
    {
      "cell_type": "code",
      "metadata": {
        "id": "oLkZH5UHDci8",
        "colab": {
          "base_uri": "https://localhost:8080/",
          "height": 36
        },
        "outputId": "74508db0-9577-4a72-bff0-af2eabd99aea"
      },
      "source": [
        "mensaje = oculto[::-2]\n",
        "mensaje"
      ],
      "execution_count": null,
      "outputs": [
        {
          "output_type": "execute_result",
          "data": {
            "text/plain": [
              "'I am the secret message!'"
            ],
            "application/vnd.google.colaboratory.intrinsic+json": {
              "type": "string"
            }
          },
          "metadata": {},
          "execution_count": 14
        }
      ]
    },
    {
      "cell_type": "code",
      "metadata": {
        "id": "ie0r7wJaDciF",
        "colab": {
          "base_uri": "https://localhost:8080/",
          "height": 54
        },
        "outputId": "40c9b802-77bd-4153-9f77-5a157a175ffb"
      },
      "source": [
        "\"usando comillas dobles no es necesario el caracter de escape para escribir el caracter de comilla simple ' dentro de una cadena\""
      ],
      "execution_count": null,
      "outputs": [
        {
          "output_type": "execute_result",
          "data": {
            "text/plain": [
              "\"usando comillas dobles no es necesario el caracter de escape para escribir el caracter de comilla simple ' dentro de una cadena\""
            ],
            "application/vnd.google.colaboratory.intrinsic+json": {
              "type": "string"
            }
          },
          "metadata": {},
          "execution_count": 15
        }
      ]
    },
    {
      "cell_type": "markdown",
      "metadata": {
        "id": "g8AbAnTiDciK"
      },
      "source": [
        "## Imprimiendo en pantalla\n",
        "\n",
        "Para imprimir en pantalla el contenido de una variable o cualquier expresión, usamos la función de python \n",
        "\n",
        "``print(\"Cadena a Imprimir\")``"
      ]
    },
    {
      "cell_type": "code",
      "metadata": {
        "id": "Ei5CmWm9DciL"
      },
      "source": [
        "x = 'hello'"
      ],
      "execution_count": null,
      "outputs": []
    },
    {
      "cell_type": "code",
      "metadata": {
        "id": "x3I7D4n-DciN",
        "colab": {
          "base_uri": "https://localhost:8080/",
          "height": 36
        },
        "outputId": "bcd1ed4e-8810-4fe4-8e0a-d37233f93c2b"
      },
      "source": [
        "x"
      ],
      "execution_count": null,
      "outputs": [
        {
          "output_type": "execute_result",
          "data": {
            "text/plain": [
              "'hello'"
            ],
            "application/vnd.google.colaboratory.intrinsic+json": {
              "type": "string"
            }
          },
          "metadata": {},
          "execution_count": 17
        }
      ]
    },
    {
      "cell_type": "code",
      "metadata": {
        "id": "T5OMEiBODciO",
        "colab": {
          "base_uri": "https://localhost:8080/"
        },
        "outputId": "38c4a0c9-89bf-4203-9fef-9c2d10a3e3e7"
      },
      "source": [
        "print(x)"
      ],
      "execution_count": null,
      "outputs": [
        {
          "output_type": "stream",
          "name": "stdout",
          "text": [
            "hello\n"
          ]
        }
      ]
    },
    {
      "cell_type": "code",
      "metadata": {
        "id": "L2uWE5brDciS"
      },
      "source": [
        "num = 12\n",
        "name = 'Felipe'"
      ],
      "execution_count": null,
      "outputs": []
    },
    {
      "cell_type": "code",
      "metadata": {
        "id": "dF5F-dtHDciU",
        "colab": {
          "base_uri": "https://localhost:8080/"
        },
        "outputId": "9de6677b-38b5-40f2-d3f5-2d0c62f4a4fb"
      },
      "source": [
        "print('Mi número es: {} y mi nombre es: {}'.format(num,name))"
      ],
      "execution_count": null,
      "outputs": [
        {
          "output_type": "stream",
          "name": "stdout",
          "text": [
            "Mi número es: 12 y mi nombre es: Felipe\n"
          ]
        }
      ]
    },
    {
      "cell_type": "code",
      "metadata": {
        "id": "vH8zXxttDciW",
        "colab": {
          "base_uri": "https://localhost:8080/"
        },
        "outputId": "c17d89e6-0d84-44ec-8bdb-0aa60027f24a"
      },
      "source": [
        "print('Mi número es: {uno} y mi nombre es: {dos}'.format(uno=num,dos=name))"
      ],
      "execution_count": null,
      "outputs": [
        {
          "output_type": "stream",
          "name": "stdout",
          "text": [
            "Mi número es: 12 y mi nombre es: Felipe\n"
          ]
        }
      ]
    },
    {
      "cell_type": "code",
      "metadata": {
        "id": "gGALnD9_DciX",
        "colab": {
          "base_uri": "https://localhost:8080/"
        },
        "outputId": "6533b465-539d-43bd-8157-92e2d2540132"
      },
      "source": [
        "print('Mi número es: {uno} y mi nombre es: {dos}, otra vez el número: {uno}'.format(uno=num, dos=name))"
      ],
      "execution_count": null,
      "outputs": [
        {
          "output_type": "stream",
          "name": "stdout",
          "text": [
            "Mi número es: 12 y mi nombre es: Felipe, otra vez el número: 12\n"
          ]
        }
      ]
    },
    {
      "cell_type": "code",
      "metadata": {
        "id": "uMjpLk5jDcia"
      },
      "source": [
        "print(\"Mi número es: %d y mi nombre es: %s\" % (num,name)) "
      ],
      "execution_count": null,
      "outputs": []
    },
    {
      "cell_type": "code",
      "metadata": {
        "id": "ur9rZj0e-Ap7"
      },
      "source": [
        "# f-string Python 3\n",
        "print(f\"Mi número es: {num} y mi nombre es: {name}\") "
      ],
      "execution_count": null,
      "outputs": []
    },
    {
      "cell_type": "markdown",
      "metadata": {
        "id": "JNYzN9jx90F-"
      },
      "source": [
        "# **2. Otros Tipos de Datos**\n",
        "\n",
        "En Python existen muchos tipos de datos, pero los más usados y versátiles los veremos a continuación."
      ]
    },
    {
      "cell_type": "markdown",
      "metadata": {
        "id": "sp_hMLDbDci-"
      },
      "source": [
        "### Listas\n",
        "\n",
        "Son secuencias de elementos que pueden pertenecer a cualquier tipo de dato. Estas listas guardan un órden que está definido el índice."
      ]
    },
    {
      "cell_type": "code",
      "metadata": {
        "id": "U0SC7_ESDci-"
      },
      "source": [
        "[1,2,3]"
      ],
      "execution_count": null,
      "outputs": []
    },
    {
      "cell_type": "code",
      "metadata": {
        "id": "7DRG2_jcDcjA"
      },
      "source": [
        "['a','b','c']"
      ],
      "execution_count": null,
      "outputs": []
    },
    {
      "cell_type": "code",
      "metadata": {
        "id": "L8bErUnKDcjB"
      },
      "source": [
        "['hi',1,[1,2]]"
      ],
      "execution_count": null,
      "outputs": []
    },
    {
      "cell_type": "code",
      "metadata": {
        "id": "h_XXCa1GDcjC"
      },
      "source": [
        "my_list = ['a','b','c']"
      ],
      "execution_count": null,
      "outputs": []
    },
    {
      "cell_type": "code",
      "metadata": {
        "id": "d46CV21iDcjE"
      },
      "source": [
        "my_list"
      ],
      "execution_count": null,
      "outputs": []
    },
    {
      "cell_type": "code",
      "metadata": {
        "id": "oZHoipayDcjF"
      },
      "source": [
        "my_list.append('NEW')"
      ],
      "execution_count": null,
      "outputs": []
    },
    {
      "cell_type": "code",
      "metadata": {
        "id": "OSrOuqFyDcjH"
      },
      "source": [
        "my_list"
      ],
      "execution_count": null,
      "outputs": []
    },
    {
      "cell_type": "code",
      "metadata": {
        "id": "EfGbKZtN-eLb"
      },
      "source": [
        "# Eliminar un elemento de la lista por su contenido\n",
        "my_list.remove('c')"
      ],
      "execution_count": null,
      "outputs": []
    },
    {
      "cell_type": "code",
      "metadata": {
        "id": "2YNKDAd7-6p6"
      },
      "source": [
        "my_list"
      ],
      "execution_count": null,
      "outputs": []
    },
    {
      "cell_type": "code",
      "metadata": {
        "id": "7-KHaiMd-8zS"
      },
      "source": [
        "# Eliminar un elemento de la lista por su índice\n",
        "del my_list[2]"
      ],
      "execution_count": null,
      "outputs": []
    },
    {
      "cell_type": "code",
      "metadata": {
        "id": "MrFihgf6_rzp"
      },
      "source": [
        "my_list"
      ],
      "execution_count": null,
      "outputs": []
    },
    {
      "cell_type": "code",
      "metadata": {
        "id": "RXczMlhl_0Tl"
      },
      "source": [
        "# Eliminar un elemento de la lista por su posición y retorno el dato\n",
        "my_list.pop(1)"
      ],
      "execution_count": null,
      "outputs": []
    },
    {
      "cell_type": "code",
      "metadata": {
        "id": "zhMcYMPXAU2A"
      },
      "source": [
        "my_list"
      ],
      "execution_count": null,
      "outputs": []
    },
    {
      "cell_type": "code",
      "metadata": {
        "id": "teK9FLZm_FSK"
      },
      "source": [
        "# Restauro la lista anterior\n",
        "my_list = ['a', 'b', 'c', 'NEW']"
      ],
      "execution_count": null,
      "outputs": []
    },
    {
      "cell_type": "code",
      "metadata": {
        "id": "tv-uiz6RDcjM"
      },
      "source": [
        "my_list[0]"
      ],
      "execution_count": null,
      "outputs": []
    },
    {
      "cell_type": "code",
      "metadata": {
        "id": "Y_zTPr7uDcjP"
      },
      "source": [
        "my_list[1]"
      ],
      "execution_count": null,
      "outputs": []
    },
    {
      "cell_type": "code",
      "metadata": {
        "id": "NjmIMRDODcjR"
      },
      "source": [
        "my_list[1:]"
      ],
      "execution_count": null,
      "outputs": []
    },
    {
      "cell_type": "code",
      "metadata": {
        "id": "CHGx3efaDcjU"
      },
      "source": [
        "my_list[:1]"
      ],
      "execution_count": null,
      "outputs": []
    },
    {
      "cell_type": "code",
      "metadata": {
        "id": "I2rlbtSBDcjV"
      },
      "source": [
        "my_list[0] = 'Nuevo valor'"
      ],
      "execution_count": null,
      "outputs": []
    },
    {
      "cell_type": "code",
      "metadata": {
        "id": "Kkzl-zytDcjZ"
      },
      "source": [
        "my_list"
      ],
      "execution_count": null,
      "outputs": []
    },
    {
      "cell_type": "code",
      "metadata": {
        "id": "voMB0byUDcja"
      },
      "source": [
        "anidada = [1,2,[3,4],5]"
      ],
      "execution_count": null,
      "outputs": []
    },
    {
      "cell_type": "code",
      "metadata": {
        "id": "HX0Dye88Dcjc"
      },
      "source": [
        "anidada[2]"
      ],
      "execution_count": null,
      "outputs": []
    },
    {
      "cell_type": "code",
      "metadata": {
        "id": "e51T5pcDDcje"
      },
      "source": [
        "anidada[2][0]"
      ],
      "execution_count": null,
      "outputs": []
    },
    {
      "cell_type": "code",
      "metadata": {
        "id": "x8ZkhMKZDcjg"
      },
      "source": [
        "anidada = [1,2,3,[4,5,['target']]]"
      ],
      "execution_count": null,
      "outputs": []
    },
    {
      "cell_type": "code",
      "metadata": {
        "id": "OHrC8y0SDcjh"
      },
      "source": [
        "anidada[3]"
      ],
      "execution_count": null,
      "outputs": []
    },
    {
      "cell_type": "code",
      "metadata": {
        "id": "ek3utVR1Dcji"
      },
      "source": [
        "anidada[3][2]"
      ],
      "execution_count": null,
      "outputs": []
    },
    {
      "cell_type": "code",
      "metadata": {
        "id": "IKxiqLhVDcjm"
      },
      "source": [
        "anidada[3][2][0]"
      ],
      "execution_count": null,
      "outputs": []
    },
    {
      "cell_type": "markdown",
      "metadata": {
        "id": "k5IXp8DqDcjp"
      },
      "source": [
        "### Diccionarios\n",
        "\n",
        "Este tipo de dato permite manejar pares **clave** y **valor**, lo cual es muy util en el momento de acceder rápidamente a un elemento."
      ]
    },
    {
      "cell_type": "code",
      "metadata": {
        "id": "Ye1_t3_9Dcjs"
      },
      "source": [
        "d = {'key1':'item1','key2':1000}"
      ],
      "execution_count": null,
      "outputs": []
    },
    {
      "cell_type": "code",
      "metadata": {
        "id": "FejgOggYDcju"
      },
      "source": [
        "d[0] # no funcionará"
      ],
      "execution_count": null,
      "outputs": []
    },
    {
      "cell_type": "code",
      "metadata": {
        "id": "GyRZdGnmDcjv"
      },
      "source": [
        "d['key1']"
      ],
      "execution_count": null,
      "outputs": []
    },
    {
      "cell_type": "code",
      "metadata": {
        "id": "nZGA-fAYDcjv"
      },
      "source": [
        "d['key2']"
      ],
      "execution_count": null,
      "outputs": []
    },
    {
      "cell_type": "code",
      "metadata": {
        "id": "oJGnlsKBDcjw"
      },
      "source": [
        "d"
      ],
      "execution_count": null,
      "outputs": []
    },
    {
      "cell_type": "code",
      "metadata": {
        "id": "JSwGGGjPDcjx"
      },
      "source": [
        "d = {'k1':[1, 2, 3, 4, 5], 'k2': 'Hola'}"
      ],
      "execution_count": null,
      "outputs": []
    },
    {
      "cell_type": "code",
      "metadata": {
        "id": "OReVtAxHDcjy"
      },
      "source": [
        "d['k1']"
      ],
      "execution_count": null,
      "outputs": []
    },
    {
      "cell_type": "code",
      "metadata": {
        "id": "svdAxtpcDcj0"
      },
      "source": [
        "lista = d['k1']"
      ],
      "execution_count": null,
      "outputs": []
    },
    {
      "cell_type": "code",
      "metadata": {
        "id": "Bvz2uDAODcj1"
      },
      "source": [
        "lista"
      ],
      "execution_count": null,
      "outputs": []
    },
    {
      "cell_type": "code",
      "metadata": {
        "id": "8I7Cj9iQDcj1"
      },
      "source": [
        "lista[3]"
      ],
      "execution_count": null,
      "outputs": []
    },
    {
      "cell_type": "code",
      "metadata": {
        "id": "sC0oVroSDcjz"
      },
      "source": [
        "d['k1'][3]"
      ],
      "execution_count": null,
      "outputs": []
    },
    {
      "cell_type": "code",
      "metadata": {
        "id": "6M_WiWTJDcj2"
      },
      "source": [
        "# un diccionario anidado dentro de otro diccionario\n",
        "d = {'k1':{'innerkey1':[1, 2, 3, 10]}}"
      ],
      "execution_count": null,
      "outputs": []
    },
    {
      "cell_type": "code",
      "metadata": {
        "id": "PcmONy3sDcj4"
      },
      "source": [
        "d['k1']"
      ],
      "execution_count": null,
      "outputs": []
    },
    {
      "cell_type": "code",
      "metadata": {
        "id": "b4i2OprmDcj4"
      },
      "source": [
        "d['k1']['innerkey1']"
      ],
      "execution_count": null,
      "outputs": []
    },
    {
      "cell_type": "code",
      "metadata": {
        "id": "ZqoRw9j9Dcj5"
      },
      "source": [
        "d['k1']['innerkey1'][3]"
      ],
      "execution_count": null,
      "outputs": []
    },
    {
      "cell_type": "markdown",
      "metadata": {
        "id": "ZS7z719KDcj7"
      },
      "source": [
        "### Tuplas \n",
        "\n",
        "Estos son arreglos inmutables de elementos. Es decir que son listas de elementos que no pueden ser modificadas agregando o eliminando elementos."
      ]
    },
    {
      "cell_type": "code",
      "metadata": {
        "id": "pV5rpvkCDcj7"
      },
      "source": [
        "lista = [1, 2, 3]"
      ],
      "execution_count": null,
      "outputs": []
    },
    {
      "cell_type": "code",
      "metadata": {
        "id": "aBH5zuvYDcj8"
      },
      "source": [
        "lista"
      ],
      "execution_count": null,
      "outputs": []
    },
    {
      "cell_type": "code",
      "metadata": {
        "id": "SpsmIOvLDcj9"
      },
      "source": [
        "lista [1] = 'Nuevo valor'"
      ],
      "execution_count": null,
      "outputs": []
    },
    {
      "cell_type": "code",
      "metadata": {
        "id": "7V1XBGpDDcj9"
      },
      "source": [
        "lista"
      ],
      "execution_count": null,
      "outputs": []
    },
    {
      "cell_type": "code",
      "metadata": {
        "id": "BusRfoHxDcj-"
      },
      "source": [
        "tupla = (1,2,3)"
      ],
      "execution_count": null,
      "outputs": []
    },
    {
      "cell_type": "code",
      "metadata": {
        "id": "MX0ZtBqiDcj_"
      },
      "source": [
        "tupla"
      ],
      "execution_count": null,
      "outputs": []
    },
    {
      "cell_type": "code",
      "metadata": {
        "id": "mZJbo5IoDckA"
      },
      "source": [
        "tupla[0]"
      ],
      "execution_count": null,
      "outputs": []
    },
    {
      "cell_type": "code",
      "metadata": {
        "id": "QkWRmEIzDckA"
      },
      "source": [
        "tupla[0] = 'NEW' # las tuplas son inmutables, no se puede reasignar. Saldrá un error!"
      ],
      "execution_count": null,
      "outputs": []
    },
    {
      "cell_type": "code",
      "metadata": {
        "id": "TUd9EzWSDckC"
      },
      "source": [
        "tupla      # las tuplas son inmutables, no se puede reasignar"
      ],
      "execution_count": null,
      "outputs": []
    },
    {
      "cell_type": "markdown",
      "metadata": {
        "id": "v8J9-1fkDckD"
      },
      "source": [
        "### Conjuntos (Sets)\n",
        "\n",
        "Es una estructura de datos que permite almacenar colecciones de elementos únicos."
      ]
    },
    {
      "cell_type": "code",
      "metadata": {
        "id": "hAmYOfqyDckD"
      },
      "source": [
        "{1,2,3}"
      ],
      "execution_count": null,
      "outputs": []
    },
    {
      "cell_type": "code",
      "metadata": {
        "id": "QSiK2W33DckE"
      },
      "source": [
        "{1,2,3,1,2,1,2,3,3,3,3,2,2,2,1,1,2}"
      ],
      "execution_count": null,
      "outputs": []
    },
    {
      "cell_type": "code",
      "metadata": {
        "id": "CRpSMKK-DckF"
      },
      "source": [
        "set([1, 1, 1, 2, 2, 6, 6, 2, 8, 1])"
      ],
      "execution_count": null,
      "outputs": []
    },
    {
      "cell_type": "code",
      "metadata": {
        "id": "2YVVO2sLDckG"
      },
      "source": [
        "s = {1, 2, 3}"
      ],
      "execution_count": null,
      "outputs": []
    },
    {
      "cell_type": "code",
      "metadata": {
        "id": "YAf4fvR8DckI"
      },
      "source": [
        "s"
      ],
      "execution_count": null,
      "outputs": []
    },
    {
      "cell_type": "code",
      "metadata": {
        "id": "ibiCSa5JDckI"
      },
      "source": [
        "s.add(5)"
      ],
      "execution_count": null,
      "outputs": []
    },
    {
      "cell_type": "code",
      "metadata": {
        "id": "xfN1ahoODckK"
      },
      "source": [
        "s"
      ],
      "execution_count": null,
      "outputs": []
    },
    {
      "cell_type": "code",
      "metadata": {
        "id": "9YMcHF0SDckK"
      },
      "source": [
        "s.add(5)"
      ],
      "execution_count": null,
      "outputs": []
    },
    {
      "cell_type": "code",
      "metadata": {
        "id": "96GH_zs4DckL"
      },
      "source": [
        "s"
      ],
      "execution_count": null,
      "outputs": []
    },
    {
      "cell_type": "markdown",
      "metadata": {
        "id": "Zdt-77CR-Z-M"
      },
      "source": [
        "# **3. Operadores**\n",
        "\n",
        "Los operadores son símbolos especiales en python que llevan a cabo operaciones aritméticas y de cálculo lógico."
      ]
    },
    {
      "cell_type": "code",
      "metadata": {
        "id": "2cK7W8vYyAxN"
      },
      "source": [
        "1 + 1"
      ],
      "execution_count": null,
      "outputs": []
    },
    {
      "cell_type": "code",
      "metadata": {
        "id": "JS8apPaBDchf"
      },
      "source": [
        "10 - 88"
      ],
      "execution_count": null,
      "outputs": []
    },
    {
      "cell_type": "code",
      "metadata": {
        "id": "0Ym0FQzxDchi"
      },
      "source": [
        "1 * 3"
      ],
      "execution_count": null,
      "outputs": []
    },
    {
      "cell_type": "code",
      "metadata": {
        "id": "Zvx5ufg6Dchj"
      },
      "source": [
        "1 / 2"
      ],
      "execution_count": null,
      "outputs": []
    },
    {
      "cell_type": "code",
      "metadata": {
        "id": "WoObS0DnDchl"
      },
      "source": [
        "2  ** 4"
      ],
      "execution_count": null,
      "outputs": []
    },
    {
      "cell_type": "code",
      "metadata": {
        "id": "izQgn7xcDchn"
      },
      "source": [
        "4 % 2"
      ],
      "execution_count": null,
      "outputs": []
    },
    {
      "cell_type": "code",
      "metadata": {
        "id": "wsvEp_lwDchp"
      },
      "source": [
        "5 % 2"
      ],
      "execution_count": null,
      "outputs": []
    },
    {
      "cell_type": "code",
      "metadata": {
        "id": "myKceJC6Dchq"
      },
      "source": [
        "# Precedencia de operadores\n",
        "2 + 3 * 5 + 5"
      ],
      "execution_count": null,
      "outputs": []
    },
    {
      "cell_type": "code",
      "metadata": {
        "id": "2bp7sPZwDcht"
      },
      "source": [
        "# Los paréntesis pueden modificar la precedencia\n",
        "(2 + 3) * (5 + 5)"
      ],
      "execution_count": null,
      "outputs": []
    },
    {
      "cell_type": "markdown",
      "metadata": {
        "id": "6eZBkK_ODckO"
      },
      "source": [
        "## Operadores Relacionales\n",
        "\n",
        "Son operadores para comparar una expresión. Estos retornan True o False según el resultado de la condición a comparar."
      ]
    },
    {
      "cell_type": "code",
      "metadata": {
        "id": "Ejx-mNK9DckP"
      },
      "source": [
        "1 > 2"
      ],
      "execution_count": null,
      "outputs": []
    },
    {
      "cell_type": "code",
      "metadata": {
        "id": "J0A10BsgDckP"
      },
      "source": [
        "1 < 2"
      ],
      "execution_count": null,
      "outputs": []
    },
    {
      "cell_type": "code",
      "metadata": {
        "id": "NM_LZQXQDckQ"
      },
      "source": [
        "1 >= 1"
      ],
      "execution_count": null,
      "outputs": []
    },
    {
      "cell_type": "code",
      "metadata": {
        "id": "Q43o7FI1DckR"
      },
      "source": [
        "1 <= 4"
      ],
      "execution_count": null,
      "outputs": []
    },
    {
      "cell_type": "code",
      "metadata": {
        "id": "W2IGyZjtDckS"
      },
      "source": [
        "1 == 1"
      ],
      "execution_count": null,
      "outputs": []
    },
    {
      "cell_type": "code",
      "metadata": {
        "id": "dq2XbMmzDckT"
      },
      "source": [
        "# el operador de igualdad es ==\n",
        "# si usamos = Python lo interpreta como una asignación\n",
        "# y en el siguiente caso falla\n",
        "1 = 1"
      ],
      "execution_count": null,
      "outputs": []
    },
    {
      "cell_type": "code",
      "metadata": {
        "id": "BHZmoW1wDckU"
      },
      "source": [
        "# el operador de desigualdad es !=\n",
        "10 != 100"
      ],
      "execution_count": null,
      "outputs": []
    },
    {
      "cell_type": "code",
      "metadata": {
        "id": "4vQh0TQODckW"
      },
      "source": [
        "10 != 10"
      ],
      "execution_count": null,
      "outputs": []
    },
    {
      "cell_type": "code",
      "metadata": {
        "id": "hB_Us3jsDckW"
      },
      "source": [
        "'hi' == 'bye'"
      ],
      "execution_count": null,
      "outputs": []
    },
    {
      "cell_type": "code",
      "source": [
        "'hi' == 'Hi'"
      ],
      "metadata": {
        "id": "Rnbl06PQGBNj"
      },
      "execution_count": null,
      "outputs": []
    },
    {
      "cell_type": "code",
      "metadata": {
        "id": "r6erYuJDDckX"
      },
      "source": [
        "[1, 2, 100] == [1, 2, 100]"
      ],
      "execution_count": null,
      "outputs": []
    },
    {
      "cell_type": "code",
      "metadata": {
        "id": "g9rnJoUqDckY"
      },
      "source": [
        "{'k1':1, 'k2':2, 'k3':[1,2,3]} == {'k1':1, 'k2':2, 'k3':[1,2,3]}"
      ],
      "execution_count": null,
      "outputs": []
    },
    {
      "cell_type": "markdown",
      "metadata": {
        "id": "f7SX2FYvDckY"
      },
      "source": [
        "## Operadores Lógicos\n",
        "\n",
        "Permiten construir expresiones de comparación lógica, para obtener resultados **True** o **False**."
      ]
    },
    {
      "cell_type": "code",
      "metadata": {
        "id": "r5kIqfpXDckZ"
      },
      "source": [
        "(1 > 2) and (2 < 3)"
      ],
      "execution_count": null,
      "outputs": []
    },
    {
      "cell_type": "code",
      "metadata": {
        "id": "s_BGwTdkDckb"
      },
      "source": [
        "(1 > 2) or (2 < 3)"
      ],
      "execution_count": null,
      "outputs": []
    },
    {
      "cell_type": "code",
      "metadata": {
        "id": "UedFVwIVDckb"
      },
      "source": [
        "(1 == 2) or (2 == 3) or (4 == 4)"
      ],
      "execution_count": null,
      "outputs": []
    },
    {
      "cell_type": "code",
      "metadata": {
        "id": "qTXBztFbDckc"
      },
      "source": [
        "True and True"
      ],
      "execution_count": null,
      "outputs": []
    },
    {
      "cell_type": "code",
      "metadata": {
        "id": "fwQwH_whDckd"
      },
      "source": [
        "True and False"
      ],
      "execution_count": null,
      "outputs": []
    },
    {
      "cell_type": "code",
      "metadata": {
        "id": "-XtndYW5Dcke"
      },
      "source": [
        "False and True"
      ],
      "execution_count": null,
      "outputs": []
    },
    {
      "cell_type": "code",
      "metadata": {
        "id": "4mKWpnIEDckf"
      },
      "source": [
        "False and False"
      ],
      "execution_count": null,
      "outputs": []
    },
    {
      "cell_type": "code",
      "metadata": {
        "id": "AfCV9ZyKDckf"
      },
      "source": [
        "True or True"
      ],
      "execution_count": null,
      "outputs": []
    },
    {
      "cell_type": "code",
      "metadata": {
        "id": "ylET6Us6Dckg"
      },
      "source": [
        "True or False"
      ],
      "execution_count": null,
      "outputs": []
    },
    {
      "cell_type": "code",
      "metadata": {
        "id": "FDxHUUgdDckg"
      },
      "source": [
        "False or True"
      ],
      "execution_count": null,
      "outputs": []
    },
    {
      "cell_type": "code",
      "metadata": {
        "id": "SovJU54PDckj"
      },
      "source": [
        "False or False"
      ],
      "execution_count": null,
      "outputs": []
    },
    {
      "cell_type": "code",
      "metadata": {
        "id": "_BQbPsGfDckl"
      },
      "source": [
        "not True"
      ],
      "execution_count": null,
      "outputs": []
    },
    {
      "cell_type": "code",
      "metadata": {
        "id": "SFHOb2rgDckm"
      },
      "source": [
        "not False"
      ],
      "execution_count": null,
      "outputs": []
    },
    {
      "cell_type": "code",
      "metadata": {
        "id": "yFBIJjQPDckn"
      },
      "source": [
        "not (1 <= 10)\n",
        "a=True\n",
        "not(a)"
      ],
      "execution_count": null,
      "outputs": []
    },
    {
      "cell_type": "markdown",
      "metadata": {
        "id": "s_EEPRnyDckv"
      },
      "source": [
        "# **4. Control de Flujo**\n",
        "\n",
        "Una estructura para control de flujo, es un bloque de código que permite encadenar instrucciones basadas en condiciones.\n",
        "\n",
        "\n"
      ]
    },
    {
      "cell_type": "markdown",
      "metadata": {
        "id": "7sHYMCNTNq6J"
      },
      "source": [
        "### Condicionales: if,elif, else \n",
        "\n",
        "Estos condicionales verifican el resultado de una expresión lógica, si el resultado es verdadero el código identado en el **if** será ejecutado. De otra manera se ejecutará el código **else**."
      ]
    },
    {
      "cell_type": "code",
      "metadata": {
        "id": "E794dYliDckv"
      },
      "source": [
        "if 1 < 2:\n",
        "  print('Si')"
      ],
      "execution_count": null,
      "outputs": []
    },
    {
      "cell_type": "code",
      "metadata": {
        "id": "fL4SdO_4Dckw"
      },
      "source": [
        "if 1 > 2:\n",
        "    print('Si')"
      ],
      "execution_count": null,
      "outputs": []
    },
    {
      "cell_type": "code",
      "metadata": {
        "id": "-NO6UctQDcky"
      },
      "source": [
        "if 1 < 2:\n",
        "    print('first')\n",
        "else:\n",
        "    print('last')"
      ],
      "execution_count": null,
      "outputs": []
    },
    {
      "cell_type": "code",
      "metadata": {
        "id": "SiG78oRsDckz"
      },
      "source": [
        "if 1 > 2:\n",
        "    print('first')\n",
        "else:\n",
        "    print('last')"
      ],
      "execution_count": null,
      "outputs": []
    },
    {
      "cell_type": "code",
      "metadata": {
        "id": "T-AVIpW5Dck0"
      },
      "source": [
        "if 1 == 2:\n",
        "    print('first')\n",
        "elif 3 == 3:\n",
        "    print('middle')\n",
        "else:\n",
        "    print('Last')"
      ],
      "execution_count": null,
      "outputs": []
    },
    {
      "cell_type": "code",
      "metadata": {
        "id": "932c49QrDck0"
      },
      "source": [
        "if 1 == 2:\n",
        "    print('first')\n",
        "elif 4 > 0:\n",
        "    print('second')\n",
        "elif 3 == 3:\n",
        "    print('middle')\n",
        "else:\n",
        "    print('Last')"
      ],
      "execution_count": null,
      "outputs": []
    },
    {
      "cell_type": "markdown",
      "metadata": {
        "id": "HMy3uaWADck1"
      },
      "source": [
        "### Ciclo for\n",
        "\n",
        "Esta estructura de control permite ejecutar varias veces una serie de instrucciones. El límite de las repeticiones está definido por el tamaño de una lista generalmente."
      ]
    },
    {
      "cell_type": "code",
      "metadata": {
        "id": "PLrA1x5wDck1"
      },
      "source": [
        "seq = [1, 2, 3, 4, 5, 6, 7, 8]"
      ],
      "execution_count": null,
      "outputs": []
    },
    {
      "cell_type": "code",
      "metadata": {
        "id": "JUI_5CS-Dck2"
      },
      "source": [
        "for item in seq:\n",
        "    print('OK')"
      ],
      "execution_count": null,
      "outputs": []
    },
    {
      "cell_type": "code",
      "metadata": {
        "id": "-5WVDsrWDck3"
      },
      "source": [
        "for i in range(1,8):\n",
        "    print(seq[i])"
      ],
      "execution_count": null,
      "outputs": []
    },
    {
      "cell_type": "code",
      "metadata": {
        "id": "vjUlfaCdDck4"
      },
      "source": [
        "seq = [1,2,3,4,5]"
      ],
      "execution_count": null,
      "outputs": []
    },
    {
      "cell_type": "code",
      "metadata": {
        "id": "wLgyaEUcDck5"
      },
      "source": [
        "for num in seq:\n",
        "    print(num+num)"
      ],
      "execution_count": null,
      "outputs": []
    },
    {
      "cell_type": "markdown",
      "metadata": {
        "id": "ORFuj2hSDck5"
      },
      "source": [
        "### Ciclo while\n",
        "\n",
        "Ejecuta la secuencia de ordenes bajo el **while**, mientras se mantenga la condición de comprobación."
      ]
    },
    {
      "cell_type": "code",
      "metadata": {
        "id": "8Le8Fzk6Dck5"
      },
      "source": [
        " i = 1\n",
        "while i < 5:\n",
        "    print('i es igual a: {}'.format(i))\n",
        "    i = i+1"
      ],
      "execution_count": null,
      "outputs": []
    }
  ]
}